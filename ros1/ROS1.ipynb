{
 "cells": [
  {
   "cell_type": "code",
   "execution_count": 103,
   "metadata": {},
   "outputs": [],
   "source": [
    "import cv2 as cv\n",
    "import numpy as np\n",
    "import time\n",
    "from skimage.draw import random_shapes\n",
    "from skimage.measure import compare_ssim as ssim\n",
    "# import astarsearch\n",
    "import traversal"
   ]
  },
  {
   "cell_type": "code",
   "execution_count": 104,
   "metadata": {},
   "outputs": [],
   "source": [
    "class Node():\n",
    "    def __init__(self, parent=None, position=None):\n",
    "        self.parent = parent\n",
    "        self.position = position\n",
    "        self.g = 0\n",
    "        self.h = 0\n",
    "        self.f = 0\n",
    "    def __eq__(self, other):\n",
    "        return self.position == other.position\n",
    "\n",
    "def astar(maze, start, end):\n",
    "    \n",
    "    # Create start and end node\n",
    "    start_node = Node(None, start)\n",
    "    start_node.g = start_node.h = start_node.f = 0\n",
    "    end_node = Node(None, end)\n",
    "    end_node.g = end_node.h = end_node.f = 0\n",
    "\n",
    "    # Initialize both open and closed list\n",
    "    open_list = []\n",
    "    closed_list = []\n",
    "\n",
    "    # Add the start node\n",
    "    open_list.append(start_node)\n",
    "\n",
    "    # Loop until you find the end\n",
    "    while len(open_list) > 0:\n",
    "\n",
    "        # Get the current node\n",
    "        current_node = open_list[0]\n",
    "        current_index = 0\n",
    "        for index, item in enumerate(open_list):\n",
    "            if item.f < current_node.f:\n",
    "                current_node = item\n",
    "                current_index = index\n",
    "\n",
    "        # Pop current off open list, add to closed list\n",
    "        open_list.pop(current_index)\n",
    "        closed_list.append(current_node)\n",
    "\n",
    "        # Found the goal\n",
    "        if current_node == end_node:\n",
    "            path = []\n",
    "            current = current_node\n",
    "            while current is not None:\n",
    "                path.append(current.position)\n",
    "                current = current.parent\n",
    "            return path[::-1] # Return reversed path\n",
    "\n",
    "        # Generate children\n",
    "        children = []\n",
    "        for new_position in [(0, -1), (0, 1), (-1, 0), (1, 0), (-1, -1), (-1, 1), (1, -1), (1, 1)]: # Adjacent squares\n",
    "\n",
    "            # Get node position\n",
    "            node_position = (current_node.position[0] + new_position[0], current_node.position[1] + new_position[1])\n",
    "\n",
    "            # Make sure within range\n",
    "            if node_position[0] > (len(maze) - 1) or node_position[0] < 0 or node_position[1] > (len(maze[len(maze)-1]) -1) or node_position[1] < 0:\n",
    "                continue\n",
    "\n",
    "            # Make sure walkable terrain\n",
    "            if maze[node_position[0]][node_position[1]] != 0:\n",
    "                continue\n",
    "\n",
    "            # Create new node\n",
    "            new_node = Node(current_node, node_position)\n",
    "\n",
    "            # Append\n",
    "            children.append(new_node)\n",
    "\n",
    "        # Loop through children\n",
    "        for child in children:\n",
    "\n",
    "            # Child is on the closed list\n",
    "            for closed_child in closed_list:\n",
    "                if child == closed_child:\n",
    "                    continue\n",
    "\n",
    "            # Create the f, g, and h values\n",
    "            child.g = current_node.g + 1\n",
    "            child.h = ((child.position[0] - end_node.position[0]) ** 2) + ((child.position[1] - end_node.position[1]) ** 2)\n",
    "            child.f = child.g + child.h\n",
    "\n",
    "            # Child is already in the open list\n",
    "            for open_node in open_list:\n",
    "                if child == open_node and child.g > open_node.g:\n",
    "                    continue\n",
    "\n",
    "            # Add the child to the open list\n",
    "            open_list.append(child)\n",
    "\n",
    "\n",
    "def highlightedpath(start,end,gray,img):\n",
    "    path = astar(gray, start, end)\n",
    "    path_arr = np.asarray(path)\n",
    "    print(path_arr)\n",
    "    m,n=path_arr.shape\n",
    "    if path is not None:\n",
    "        for i in range (m-1):\n",
    "            x1 = path[i][0]\n",
    "            y1 = path[i][1]\n",
    "            window_name = 'Image'\n",
    "            end1 = path[i+1][0]\n",
    "            end2 = path[i+1][1]\n",
    "            start = (x1,y1)\n",
    "            end = (end1,end2)\n",
    "            color = (255, 255, 0) \n",
    "            thickness = 1\n",
    "            img = cv.line(img, start, end, color, thickness)\n",
    "    return img\n"
   ]
  },
  {
   "cell_type": "code",
   "execution_count": 105,
   "metadata": {},
   "outputs": [],
   "source": [
    "img = cv.imread('test.png')\n",
    "cv.imshow('world',img)\n",
    "cv.waitKey(0)\n",
    "cv.destroyAllWindows()"
   ]
  },
  {
   "cell_type": "code",
   "execution_count": 106,
   "metadata": {},
   "outputs": [],
   "source": [
    "res = img\n",
    "cv.imshow('world',res)\n",
    "cv.waitKey(0)\n",
    "cv.destroyAllWindows()"
   ]
  },
  {
   "cell_type": "code",
   "execution_count": 107,
   "metadata": {},
   "outputs": [],
   "source": [
    "gray = cv.cvtColor(res,cv.COLOR_BGR2GRAY)\n",
    "cv.imshow('Gray World',gray)\n",
    "cv.waitKey(0)\n",
    "cv.destroyAllWindows()"
   ]
  },
  {
   "cell_type": "code",
   "execution_count": 108,
   "metadata": {},
   "outputs": [],
   "source": [
    "gray2 = gray"
   ]
  },
  {
   "cell_type": "code",
   "execution_count": 109,
   "metadata": {},
   "outputs": [],
   "source": [
    "def CircleDetector(grey):\n",
    "    for x in range (128):\n",
    "        for y in range (128):\n",
    "            if grey[x][y] != 255.0:\n",
    "                grey[x][y] = 0\n",
    "\n",
    "    grey = cv.medianBlur(grey, 3)\n",
    "    rows = grey.shape[0]\n",
    "    circles = cv.HoughCircles(grey, cv.HOUGH_GRADIENT, 1,rows/10000,param1=70, param2=3,minRadius=2, maxRadius=5)\n",
    "\n",
    "    if circles is not None:\n",
    "        circles = np.uint16(np.around(circles))\n",
    "        for i in circles[0, :]:\n",
    "            center = (i[0], i[1])\n",
    "            cv.circle(res, center, 1, (0, 100, 100), 1)                        \n",
    "            radius = i[2]\n",
    "            cv.circle(res, center, radius, (255, 0, 255), 1)    \n",
    "    return circles"
   ]
  },
  {
   "cell_type": "code",
   "execution_count": 110,
   "metadata": {},
   "outputs": [],
   "source": [
    "circle_cood = CircleDetector(gray)\n",
    "#these are co ordinates of the circles"
   ]
  },
  {
   "cell_type": "code",
   "execution_count": 111,
   "metadata": {},
   "outputs": [],
   "source": [
    "def WorldStandardizer(gray):\n",
    "    for x in range(128):\n",
    "        for y in range(128):\n",
    "            if gray[x][y] > 0.0 and gray[x][y] < 255.0:\n",
    "                gray[x][y] = 1\n",
    "            elif gray[x][y] == 255.0:\n",
    "                gray[x][y] = 0\n",
    "                \n",
    "    return gray"
   ]
  },
  {
   "cell_type": "code",
   "execution_count": 112,
   "metadata": {},
   "outputs": [],
   "source": [
    "grey1 = WorldStandardizer(gray)"
   ]
  },
  {
   "cell_type": "code",
   "execution_count": 113,
   "metadata": {},
   "outputs": [],
   "source": [
    "grey2 = WorldStandardizer(gray2)"
   ]
  },
  {
   "cell_type": "code",
   "execution_count": 114,
   "metadata": {},
   "outputs": [],
   "source": [
    "start = (circle_cood[0,0,0],circle_cood[0,0,1])\n",
    "end = (circle_cood[0,1,0],circle_cood[0,1,1])"
   ]
  },
  {
   "cell_type": "code",
   "execution_count": 115,
   "metadata": {},
   "outputs": [
    {
     "name": "stdout",
     "output_type": "stream",
     "text": [
      "[[26 16]\n",
      " [27 17]\n",
      " [28 18]\n",
      " [29 19]\n",
      " [30 20]\n",
      " [31 21]\n",
      " [32 22]\n",
      " [33 23]\n",
      " [34 24]\n",
      " [35 25]\n",
      " [36 26]\n",
      " [37 27]\n",
      " [38 28]\n",
      " [39 29]\n",
      " [40 30]\n",
      " [41 31]\n",
      " [42 32]\n",
      " [43 33]\n",
      " [44 34]\n",
      " [45 35]\n",
      " [46 36]\n",
      " [47 37]\n",
      " [48 38]\n",
      " [49 38]\n",
      " [50 38]\n",
      " [51 38]\n",
      " [52 38]\n",
      " [53 38]\n",
      " [54 38]\n",
      " [55 38]\n",
      " [56 38]\n",
      " [57 38]\n",
      " [58 38]\n",
      " [59 38]\n",
      " [60 38]\n",
      " [61 38]\n",
      " [62 38]\n",
      " [63 38]\n",
      " [64 38]\n",
      " [65 38]\n",
      " [66 38]\n",
      " [67 38]\n",
      " [68 38]\n",
      " [69 38]\n",
      " [70 38]\n",
      " [71 38]\n",
      " [72 38]\n",
      " [73 38]\n",
      " [74 38]\n",
      " [75 38]\n",
      " [76 38]\n",
      " [77 38]\n",
      " [78 38]\n",
      " [79 38]\n",
      " [80 38]\n",
      " [81 38]\n",
      " [82 38]\n",
      " [83 38]\n",
      " [84 38]\n",
      " [85 38]\n",
      " [86 38]\n",
      " [87 38]\n",
      " [88 38]\n",
      " [89 38]\n",
      " [90 38]]\n"
     ]
    }
   ],
   "source": [
    "nav_img = highlightedpath(start,end,gray,img)"
   ]
  },
  {
   "cell_type": "code",
   "execution_count": 116,
   "metadata": {},
   "outputs": [],
   "source": [
    "cv.imshow('Navigated Image',nav_img)\n",
    "cv.waitKey(0)\n",
    "cv.destroyAllWindows()"
   ]
  },
  {
   "cell_type": "code",
   "execution_count": null,
   "metadata": {},
   "outputs": [],
   "source": []
  }
 ],
 "metadata": {
  "kernelspec": {
   "display_name": "Python 3",
   "language": "python",
   "name": "python3"
  },
  "language_info": {
   "codemirror_mode": {
    "name": "ipython",
    "version": 3
   },
   "file_extension": ".py",
   "mimetype": "text/x-python",
   "name": "python",
   "nbconvert_exporter": "python",
   "pygments_lexer": "ipython3",
   "version": "3.7.4"
  }
 },
 "nbformat": 4,
 "nbformat_minor": 2
}
