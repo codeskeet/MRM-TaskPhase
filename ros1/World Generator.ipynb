{
 "cells": [
  {
   "cell_type": "code",
   "execution_count": 8,
   "metadata": {},
   "outputs": [
    {
     "data": {
      "text/plain": [
       "True"
      ]
     },
     "execution_count": 8,
     "metadata": {},
     "output_type": "execute_result"
    }
   ],
   "source": [
    "import math\n",
    "from skimage.draw import random_shapes\n",
    "import cv2 \n",
    "import numpy as np\n",
    "\n",
    "image2, _ = random_shapes((128, 128),shape='circle',min_shapes=10,max_shapes=15, min_size=20,max_size=25,\n",
    "                          intensity_range=((100, 254),))\n",
    "def distance(x1,x2,y1,y2):\n",
    " dist = math.sqrt((x2-x1)**2 + (y2-y1)**2)\n",
    " return dist\n",
    "image2=np.where(image2==255,0,image2)\n",
    "x_1=np.random.randint(0,120)\n",
    "y_1=np.random.randint(0,120)\n",
    "x_2=np.random.randint(0,120)\n",
    "y_2=np.random.randint(0,120)\n",
    "while distance(x_1,x_2,y_1,y_2)<50:\n",
    " x_1=np.random.randint(0,120)\n",
    " y_1=np.random.randint(0,120)\n",
    " x_2=np.random.randint(0,120)\n",
    " y_2=np.random.randint(0,120)\n",
    "\n",
    "cv2.circle(image2,(x_1,y_1),5,(255,255,255),thickness=cv2.FILLED)\n",
    "cv2.circle(image2,(x_2,y_2),5,(255,255,255),thickness=cv2.FILLED)\n",
    "cv2.imwrite('test.png',image2)"
   ]
  },
  {
   "cell_type": "code",
   "execution_count": null,
   "metadata": {},
   "outputs": [],
   "source": []
  }
 ],
 "metadata": {
  "kernelspec": {
   "display_name": "Python 3",
   "language": "python",
   "name": "python3"
  },
  "language_info": {
   "codemirror_mode": {
    "name": "ipython",
    "version": 3
   },
   "file_extension": ".py",
   "mimetype": "text/x-python",
   "name": "python",
   "nbconvert_exporter": "python",
   "pygments_lexer": "ipython3",
   "version": "3.7.4"
  }
 },
 "nbformat": 4,
 "nbformat_minor": 2
}
