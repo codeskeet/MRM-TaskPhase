{
 "cells": [
  {
   "cell_type": "code",
   "execution_count": 117,
   "metadata": {},
   "outputs": [],
   "source": [
    "import numpy as np\n",
    "import matplotlib.pyplot as plt\n",
    "import pandas as pd\n",
    "import seaborn as sns"
   ]
  },
  {
   "cell_type": "markdown",
   "metadata": {},
   "source": [
    "# Using sklearn"
   ]
  },
  {
   "cell_type": "code",
   "execution_count": 118,
   "metadata": {},
   "outputs": [],
   "source": [
    "df = pd.read_csv('CarPrice_Assignment.csv')"
   ]
  },
  {
   "cell_type": "code",
   "execution_count": 119,
   "metadata": {},
   "outputs": [
    {
     "data": {
      "text/plain": [
       "(205, 26)"
      ]
     },
     "execution_count": 119,
     "metadata": {},
     "output_type": "execute_result"
    }
   ],
   "source": [
    "df.shape"
   ]
  },
  {
   "cell_type": "code",
   "execution_count": 120,
   "metadata": {},
   "outputs": [
    {
     "data": {
      "text/html": [
       "<div>\n",
       "<style scoped>\n",
       "    .dataframe tbody tr th:only-of-type {\n",
       "        vertical-align: middle;\n",
       "    }\n",
       "\n",
       "    .dataframe tbody tr th {\n",
       "        vertical-align: top;\n",
       "    }\n",
       "\n",
       "    .dataframe thead th {\n",
       "        text-align: right;\n",
       "    }\n",
       "</style>\n",
       "<table border=\"1\" class=\"dataframe\">\n",
       "  <thead>\n",
       "    <tr style=\"text-align: right;\">\n",
       "      <th></th>\n",
       "      <th>car_ID</th>\n",
       "      <th>symboling</th>\n",
       "      <th>CarName</th>\n",
       "      <th>fueltype</th>\n",
       "      <th>aspiration</th>\n",
       "      <th>doornumber</th>\n",
       "      <th>carbody</th>\n",
       "      <th>drivewheel</th>\n",
       "      <th>enginelocation</th>\n",
       "      <th>wheelbase</th>\n",
       "      <th>...</th>\n",
       "      <th>enginesize</th>\n",
       "      <th>fuelsystem</th>\n",
       "      <th>boreratio</th>\n",
       "      <th>stroke</th>\n",
       "      <th>compressionratio</th>\n",
       "      <th>horsepower</th>\n",
       "      <th>peakrpm</th>\n",
       "      <th>citympg</th>\n",
       "      <th>highwaympg</th>\n",
       "      <th>price</th>\n",
       "    </tr>\n",
       "  </thead>\n",
       "  <tbody>\n",
       "    <tr>\n",
       "      <td>0</td>\n",
       "      <td>1</td>\n",
       "      <td>3</td>\n",
       "      <td>alfa-romero giulia</td>\n",
       "      <td>gas</td>\n",
       "      <td>std</td>\n",
       "      <td>two</td>\n",
       "      <td>convertible</td>\n",
       "      <td>rwd</td>\n",
       "      <td>front</td>\n",
       "      <td>88.6</td>\n",
       "      <td>...</td>\n",
       "      <td>130</td>\n",
       "      <td>mpfi</td>\n",
       "      <td>3.47</td>\n",
       "      <td>2.68</td>\n",
       "      <td>9.0</td>\n",
       "      <td>111</td>\n",
       "      <td>5000</td>\n",
       "      <td>21</td>\n",
       "      <td>27</td>\n",
       "      <td>13495.0</td>\n",
       "    </tr>\n",
       "    <tr>\n",
       "      <td>1</td>\n",
       "      <td>2</td>\n",
       "      <td>3</td>\n",
       "      <td>alfa-romero stelvio</td>\n",
       "      <td>gas</td>\n",
       "      <td>std</td>\n",
       "      <td>two</td>\n",
       "      <td>convertible</td>\n",
       "      <td>rwd</td>\n",
       "      <td>front</td>\n",
       "      <td>88.6</td>\n",
       "      <td>...</td>\n",
       "      <td>130</td>\n",
       "      <td>mpfi</td>\n",
       "      <td>3.47</td>\n",
       "      <td>2.68</td>\n",
       "      <td>9.0</td>\n",
       "      <td>111</td>\n",
       "      <td>5000</td>\n",
       "      <td>21</td>\n",
       "      <td>27</td>\n",
       "      <td>16500.0</td>\n",
       "    </tr>\n",
       "    <tr>\n",
       "      <td>2</td>\n",
       "      <td>3</td>\n",
       "      <td>1</td>\n",
       "      <td>alfa-romero Quadrifoglio</td>\n",
       "      <td>gas</td>\n",
       "      <td>std</td>\n",
       "      <td>two</td>\n",
       "      <td>hatchback</td>\n",
       "      <td>rwd</td>\n",
       "      <td>front</td>\n",
       "      <td>94.5</td>\n",
       "      <td>...</td>\n",
       "      <td>152</td>\n",
       "      <td>mpfi</td>\n",
       "      <td>2.68</td>\n",
       "      <td>3.47</td>\n",
       "      <td>9.0</td>\n",
       "      <td>154</td>\n",
       "      <td>5000</td>\n",
       "      <td>19</td>\n",
       "      <td>26</td>\n",
       "      <td>16500.0</td>\n",
       "    </tr>\n",
       "    <tr>\n",
       "      <td>3</td>\n",
       "      <td>4</td>\n",
       "      <td>2</td>\n",
       "      <td>audi 100 ls</td>\n",
       "      <td>gas</td>\n",
       "      <td>std</td>\n",
       "      <td>four</td>\n",
       "      <td>sedan</td>\n",
       "      <td>fwd</td>\n",
       "      <td>front</td>\n",
       "      <td>99.8</td>\n",
       "      <td>...</td>\n",
       "      <td>109</td>\n",
       "      <td>mpfi</td>\n",
       "      <td>3.19</td>\n",
       "      <td>3.40</td>\n",
       "      <td>10.0</td>\n",
       "      <td>102</td>\n",
       "      <td>5500</td>\n",
       "      <td>24</td>\n",
       "      <td>30</td>\n",
       "      <td>13950.0</td>\n",
       "    </tr>\n",
       "    <tr>\n",
       "      <td>4</td>\n",
       "      <td>5</td>\n",
       "      <td>2</td>\n",
       "      <td>audi 100ls</td>\n",
       "      <td>gas</td>\n",
       "      <td>std</td>\n",
       "      <td>four</td>\n",
       "      <td>sedan</td>\n",
       "      <td>4wd</td>\n",
       "      <td>front</td>\n",
       "      <td>99.4</td>\n",
       "      <td>...</td>\n",
       "      <td>136</td>\n",
       "      <td>mpfi</td>\n",
       "      <td>3.19</td>\n",
       "      <td>3.40</td>\n",
       "      <td>8.0</td>\n",
       "      <td>115</td>\n",
       "      <td>5500</td>\n",
       "      <td>18</td>\n",
       "      <td>22</td>\n",
       "      <td>17450.0</td>\n",
       "    </tr>\n",
       "  </tbody>\n",
       "</table>\n",
       "<p>5 rows × 26 columns</p>\n",
       "</div>"
      ],
      "text/plain": [
       "   car_ID  symboling                   CarName fueltype aspiration doornumber  \\\n",
       "0       1          3        alfa-romero giulia      gas        std        two   \n",
       "1       2          3       alfa-romero stelvio      gas        std        two   \n",
       "2       3          1  alfa-romero Quadrifoglio      gas        std        two   \n",
       "3       4          2               audi 100 ls      gas        std       four   \n",
       "4       5          2                audi 100ls      gas        std       four   \n",
       "\n",
       "       carbody drivewheel enginelocation  wheelbase  ...  enginesize  \\\n",
       "0  convertible        rwd          front       88.6  ...         130   \n",
       "1  convertible        rwd          front       88.6  ...         130   \n",
       "2    hatchback        rwd          front       94.5  ...         152   \n",
       "3        sedan        fwd          front       99.8  ...         109   \n",
       "4        sedan        4wd          front       99.4  ...         136   \n",
       "\n",
       "   fuelsystem  boreratio  stroke compressionratio horsepower  peakrpm citympg  \\\n",
       "0        mpfi       3.47    2.68              9.0        111     5000      21   \n",
       "1        mpfi       3.47    2.68              9.0        111     5000      21   \n",
       "2        mpfi       2.68    3.47              9.0        154     5000      19   \n",
       "3        mpfi       3.19    3.40             10.0        102     5500      24   \n",
       "4        mpfi       3.19    3.40              8.0        115     5500      18   \n",
       "\n",
       "   highwaympg    price  \n",
       "0          27  13495.0  \n",
       "1          27  16500.0  \n",
       "2          26  16500.0  \n",
       "3          30  13950.0  \n",
       "4          22  17450.0  \n",
       "\n",
       "[5 rows x 26 columns]"
      ]
     },
     "execution_count": 120,
     "metadata": {},
     "output_type": "execute_result"
    }
   ],
   "source": [
    "df.head()"
   ]
  },
  {
   "cell_type": "code",
   "execution_count": 121,
   "metadata": {},
   "outputs": [
    {
     "name": "stdout",
     "output_type": "stream",
     "text": [
      "<class 'pandas.core.frame.DataFrame'>\n",
      "RangeIndex: 205 entries, 0 to 204\n",
      "Data columns (total 26 columns):\n",
      "car_ID              205 non-null int64\n",
      "symboling           205 non-null int64\n",
      "CarName             205 non-null object\n",
      "fueltype            205 non-null object\n",
      "aspiration          205 non-null object\n",
      "doornumber          205 non-null object\n",
      "carbody             205 non-null object\n",
      "drivewheel          205 non-null object\n",
      "enginelocation      205 non-null object\n",
      "wheelbase           205 non-null float64\n",
      "carlength           205 non-null float64\n",
      "carwidth            205 non-null float64\n",
      "carheight           205 non-null float64\n",
      "curbweight          205 non-null int64\n",
      "enginetype          205 non-null object\n",
      "cylindernumber      205 non-null object\n",
      "enginesize          205 non-null int64\n",
      "fuelsystem          205 non-null object\n",
      "boreratio           205 non-null float64\n",
      "stroke              205 non-null float64\n",
      "compressionratio    205 non-null float64\n",
      "horsepower          205 non-null int64\n",
      "peakrpm             205 non-null int64\n",
      "citympg             205 non-null int64\n",
      "highwaympg          205 non-null int64\n",
      "price               205 non-null float64\n",
      "dtypes: float64(8), int64(8), object(10)\n",
      "memory usage: 41.8+ KB\n"
     ]
    }
   ],
   "source": [
    "df.info()"
   ]
  },
  {
   "cell_type": "code",
   "execution_count": 122,
   "metadata": {},
   "outputs": [
    {
     "data": {
      "text/plain": [
       "car_ID              0\n",
       "symboling           0\n",
       "CarName             0\n",
       "fueltype            0\n",
       "aspiration          0\n",
       "doornumber          0\n",
       "carbody             0\n",
       "drivewheel          0\n",
       "enginelocation      0\n",
       "wheelbase           0\n",
       "carlength           0\n",
       "carwidth            0\n",
       "carheight           0\n",
       "curbweight          0\n",
       "enginetype          0\n",
       "cylindernumber      0\n",
       "enginesize          0\n",
       "fuelsystem          0\n",
       "boreratio           0\n",
       "stroke              0\n",
       "compressionratio    0\n",
       "horsepower          0\n",
       "peakrpm             0\n",
       "citympg             0\n",
       "highwaympg          0\n",
       "price               0\n",
       "dtype: int64"
      ]
     },
     "execution_count": 122,
     "metadata": {},
     "output_type": "execute_result"
    }
   ],
   "source": [
    "df.isnull().sum()"
   ]
  },
  {
   "cell_type": "code",
   "execution_count": 123,
   "metadata": {},
   "outputs": [],
   "source": [
    "# no null entires are there in the dataset"
   ]
  },
  {
   "cell_type": "code",
   "execution_count": 124,
   "metadata": {},
   "outputs": [
    {
     "data": {
      "text/plain": [
       "<matplotlib.axes._subplots.AxesSubplot at 0x12e5cbfc248>"
      ]
     },
     "execution_count": 124,
     "metadata": {},
     "output_type": "execute_result"
    },
    {
     "data": {
      "image/png": "[encoded data removed]",
      "text/plain": [
       "<Figure size 720x720 with 1 Axes>"
      ]
     },
     "metadata": {
      "needs_background": "light"
     },
     "output_type": "display_data"
    }
   ],
   "source": [
    "plt.figure(figsize = (10,10))\n",
    "sns.countplot(df['CarName'])"
   ]
  },
  {
   "cell_type": "code",
   "execution_count": 125,
   "metadata": {},
   "outputs": [
    {
     "data": {
      "text/plain": [
       "<matplotlib.axes._subplots.AxesSubplot at 0x12e5f9f0448>"
      ]
     },
     "execution_count": 125,
     "metadata": {},
     "output_type": "execute_result"
    },
    {
     "data": {
      "image/png": "[encoded data removed]",
      "text/plain": [
       "<Figure size 720x720 with 1 Axes>"
      ]
     },
     "metadata": {
      "needs_background": "light"
     },
     "output_type": "display_data"
    }
   ],
   "source": [
    "plt.figure(figsize = (10,10))\n",
    "sns.countplot(df['fueltype'])"
   ]
  },
  {
   "cell_type": "code",
   "execution_count": 126,
   "metadata": {},
   "outputs": [
    {
     "data": {
      "text/plain": [
       "<matplotlib.axes._subplots.AxesSubplot at 0x12e5faacf08>"
      ]
     },
     "execution_count": 126,
     "metadata": {},
     "output_type": "execute_result"
    },
    {
     "data": {
      "image/png": "[encoded data removed]",
      "text/plain": [
       "<Figure size 720x720 with 1 Axes>"
      ]
     },
     "metadata": {
      "needs_background": "light"
     },
     "output_type": "display_data"
    }
   ],
   "source": [
    "plt.figure(figsize = (10,10))\n",
    "sns.countplot(df['carbody'])"
   ]
  },
  {
   "cell_type": "code",
   "execution_count": 127,
   "metadata": {},
   "outputs": [],
   "source": [
    "from sklearn.preprocessing import LabelEncoder\n",
    "encoder = LabelEncoder()\n",
    "df['CarName'] = encoder.fit_transform(df['CarName'])\n",
    "df['fuelsystem'] = encoder.fit_transform(df['fuelsystem'])\n",
    "df['cylindernumber'] = encoder.fit_transform(df['cylindernumber'])\n",
    "df['enginetype'] = encoder.fit_transform(df['enginetype'])\n",
    "df['enginelocation'] = encoder.fit_transform(df['enginelocation'])\n",
    "df['drivewheel'] = encoder.fit_transform(df['drivewheel'])\n",
    "df['carbody'] = encoder.fit_transform(df['carbody'])\n",
    "df['doornumber'] = encoder.fit_transform(df['doornumber'])\n",
    "df['aspiration'] = encoder.fit_transform(df['aspiration'])\n",
    "df['fueltype'] = encoder.fit_transform(df['fueltype'])"
   ]
  },
  {
   "cell_type": "code",
   "execution_count": 128,
   "metadata": {},
   "outputs": [],
   "source": [
    "#seperating the features and output values\n",
    "x = df.iloc[:,1:-1].values\n",
    "y = df.iloc[:, 25].values"
   ]
  },
  {
   "cell_type": "code",
   "execution_count": 129,
   "metadata": {},
   "outputs": [
    {
     "data": {
      "text/html": [
       "<div>\n",
       "<style scoped>\n",
       "    .dataframe tbody tr th:only-of-type {\n",
       "        vertical-align: middle;\n",
       "    }\n",
       "\n",
       "    .dataframe tbody tr th {\n",
       "        vertical-align: top;\n",
       "    }\n",
       "\n",
       "    .dataframe thead th {\n",
       "        text-align: right;\n",
       "    }\n",
       "</style>\n",
       "<table border=\"1\" class=\"dataframe\">\n",
       "  <thead>\n",
       "    <tr style=\"text-align: right;\">\n",
       "      <th></th>\n",
       "      <th>car_ID</th>\n",
       "      <th>symboling</th>\n",
       "      <th>CarName</th>\n",
       "      <th>fueltype</th>\n",
       "      <th>aspiration</th>\n",
       "      <th>doornumber</th>\n",
       "      <th>carbody</th>\n",
       "      <th>drivewheel</th>\n",
       "      <th>enginelocation</th>\n",
       "      <th>wheelbase</th>\n",
       "      <th>...</th>\n",
       "      <th>enginesize</th>\n",
       "      <th>fuelsystem</th>\n",
       "      <th>boreratio</th>\n",
       "      <th>stroke</th>\n",
       "      <th>compressionratio</th>\n",
       "      <th>horsepower</th>\n",
       "      <th>peakrpm</th>\n",
       "      <th>citympg</th>\n",
       "      <th>highwaympg</th>\n",
       "      <th>price</th>\n",
       "    </tr>\n",
       "  </thead>\n",
       "  <tbody>\n",
       "    <tr>\n",
       "      <td>0</td>\n",
       "      <td>1</td>\n",
       "      <td>3</td>\n",
       "      <td>2</td>\n",
       "      <td>1</td>\n",
       "      <td>0</td>\n",
       "      <td>1</td>\n",
       "      <td>0</td>\n",
       "      <td>2</td>\n",
       "      <td>0</td>\n",
       "      <td>88.6</td>\n",
       "      <td>...</td>\n",
       "      <td>130</td>\n",
       "      <td>5</td>\n",
       "      <td>3.47</td>\n",
       "      <td>2.68</td>\n",
       "      <td>9.0</td>\n",
       "      <td>111</td>\n",
       "      <td>5000</td>\n",
       "      <td>21</td>\n",
       "      <td>27</td>\n",
       "      <td>13495.0</td>\n",
       "    </tr>\n",
       "    <tr>\n",
       "      <td>1</td>\n",
       "      <td>2</td>\n",
       "      <td>3</td>\n",
       "      <td>3</td>\n",
       "      <td>1</td>\n",
       "      <td>0</td>\n",
       "      <td>1</td>\n",
       "      <td>0</td>\n",
       "      <td>2</td>\n",
       "      <td>0</td>\n",
       "      <td>88.6</td>\n",
       "      <td>...</td>\n",
       "      <td>130</td>\n",
       "      <td>5</td>\n",
       "      <td>3.47</td>\n",
       "      <td>2.68</td>\n",
       "      <td>9.0</td>\n",
       "      <td>111</td>\n",
       "      <td>5000</td>\n",
       "      <td>21</td>\n",
       "      <td>27</td>\n",
       "      <td>16500.0</td>\n",
       "    </tr>\n",
       "    <tr>\n",
       "      <td>2</td>\n",
       "      <td>3</td>\n",
       "      <td>1</td>\n",
       "      <td>1</td>\n",
       "      <td>1</td>\n",
       "      <td>0</td>\n",
       "      <td>1</td>\n",
       "      <td>2</td>\n",
       "      <td>2</td>\n",
       "      <td>0</td>\n",
       "      <td>94.5</td>\n",
       "      <td>...</td>\n",
       "      <td>152</td>\n",
       "      <td>5</td>\n",
       "      <td>2.68</td>\n",
       "      <td>3.47</td>\n",
       "      <td>9.0</td>\n",
       "      <td>154</td>\n",
       "      <td>5000</td>\n",
       "      <td>19</td>\n",
       "      <td>26</td>\n",
       "      <td>16500.0</td>\n",
       "    </tr>\n",
       "    <tr>\n",
       "      <td>3</td>\n",
       "      <td>4</td>\n",
       "      <td>2</td>\n",
       "      <td>4</td>\n",
       "      <td>1</td>\n",
       "      <td>0</td>\n",
       "      <td>0</td>\n",
       "      <td>3</td>\n",
       "      <td>1</td>\n",
       "      <td>0</td>\n",
       "      <td>99.8</td>\n",
       "      <td>...</td>\n",
       "      <td>109</td>\n",
       "      <td>5</td>\n",
       "      <td>3.19</td>\n",
       "      <td>3.40</td>\n",
       "      <td>10.0</td>\n",
       "      <td>102</td>\n",
       "      <td>5500</td>\n",
       "      <td>24</td>\n",
       "      <td>30</td>\n",
       "      <td>13950.0</td>\n",
       "    </tr>\n",
       "    <tr>\n",
       "      <td>4</td>\n",
       "      <td>5</td>\n",
       "      <td>2</td>\n",
       "      <td>5</td>\n",
       "      <td>1</td>\n",
       "      <td>0</td>\n",
       "      <td>0</td>\n",
       "      <td>3</td>\n",
       "      <td>0</td>\n",
       "      <td>0</td>\n",
       "      <td>99.4</td>\n",
       "      <td>...</td>\n",
       "      <td>136</td>\n",
       "      <td>5</td>\n",
       "      <td>3.19</td>\n",
       "      <td>3.40</td>\n",
       "      <td>8.0</td>\n",
       "      <td>115</td>\n",
       "      <td>5500</td>\n",
       "      <td>18</td>\n",
       "      <td>22</td>\n",
       "      <td>17450.0</td>\n",
       "    </tr>\n",
       "  </tbody>\n",
       "</table>\n",
       "<p>5 rows × 26 columns</p>\n",
       "</div>"
      ],
      "text/plain": [
       "   car_ID  symboling  CarName  fueltype  aspiration  doornumber  carbody  \\\n",
       "0       1          3        2         1           0           1        0   \n",
       "1       2          3        3         1           0           1        0   \n",
       "2       3          1        1         1           0           1        2   \n",
       "3       4          2        4         1           0           0        3   \n",
       "4       5          2        5         1           0           0        3   \n",
       "\n",
       "   drivewheel  enginelocation  wheelbase  ...  enginesize  fuelsystem  \\\n",
       "0           2               0       88.6  ...         130           5   \n",
       "1           2               0       88.6  ...         130           5   \n",
       "2           2               0       94.5  ...         152           5   \n",
       "3           1               0       99.8  ...         109           5   \n",
       "4           0               0       99.4  ...         136           5   \n",
       "\n",
       "   boreratio  stroke  compressionratio  horsepower  peakrpm  citympg  \\\n",
       "0       3.47    2.68               9.0         111     5000       21   \n",
       "1       3.47    2.68               9.0         111     5000       21   \n",
       "2       2.68    3.47               9.0         154     5000       19   \n",
       "3       3.19    3.40              10.0         102     5500       24   \n",
       "4       3.19    3.40               8.0         115     5500       18   \n",
       "\n",
       "   highwaympg    price  \n",
       "0          27  13495.0  \n",
       "1          27  16500.0  \n",
       "2          26  16500.0  \n",
       "3          30  13950.0  \n",
       "4          22  17450.0  \n",
       "\n",
       "[5 rows x 26 columns]"
      ]
     },
     "execution_count": 129,
     "metadata": {},
     "output_type": "execute_result"
    }
   ],
   "source": [
    "#checking if features got encoded\n",
    "df.head()"
   ]
  },
  {
   "cell_type": "code",
   "execution_count": 130,
   "metadata": {},
   "outputs": [],
   "source": [
    "#creating the train test split\n",
    "from sklearn.model_selection import train_test_split\n",
    "x_train, x_test, y_train, y_test = train_test_split(x,y,test_size = 0.2, random_state = 7)"
   ]
  },
  {
   "cell_type": "code",
   "execution_count": 131,
   "metadata": {},
   "outputs": [],
   "source": [
    "#scaling the features to bring the data in same range\n",
    "from sklearn.preprocessing import StandardScaler\n",
    "scaler = StandardScaler()\n",
    "scaled_x_train = scaler.fit_transform(x_train)\n",
    "scaled_x_test = scaler.fit_transform(x_test)"
   ]
  },
  {
   "cell_type": "code",
   "execution_count": 132,
   "metadata": {},
   "outputs": [
    {
     "name": "stdout",
     "output_type": "stream",
     "text": [
      "(164, 24)\n",
      "(41, 24)\n"
     ]
    }
   ],
   "source": [
    "print(scaled_x_train.shape)\n",
    "print(scaled_x_test.shape)"
   ]
  },
  {
   "cell_type": "code",
   "execution_count": 133,
   "metadata": {},
   "outputs": [],
   "source": [
    "#creating the model\n",
    "from sklearn.linear_model import LinearRegression\n",
    "from sklearn.metrics import r2_score\n",
    "linearR = LinearRegression()\n",
    "model = linearR.fit(scaled_x_train,y_train)"
   ]
  },
  {
   "cell_type": "code",
   "execution_count": 134,
   "metadata": {},
   "outputs": [
    {
     "name": "stdout",
     "output_type": "stream",
     "text": [
      "[12791.07663557 10555.25173103  6727.88977263 16330.77407311\n",
      " 10624.28183585 24512.99407234 17023.7686847   6257.20299268\n",
      " 16273.94601065 14795.37334299  6011.67208819  7657.8869478\n",
      "  5584.04971974 17653.26832772  6577.67177775  5054.21315249\n",
      "  7893.60129102 24668.09104347  6900.13021207 14308.56736418\n",
      "  7161.65196542  8882.41559094 11808.31064034 43209.03320356\n",
      " 13754.07677687 18136.34898587  9381.74116856 23257.70755113\n",
      " 10256.37236247  7729.41415719  9774.48568525 21840.81504145\n",
      "  8284.82317312 10314.60105331 34382.71448687 11506.94906712\n",
      " 23185.76402291  9468.41438212 16590.86889163  5145.34574014\n",
      "  6027.55997776]\n"
     ]
    }
   ],
   "source": [
    "y_pred = linearR.predict(scaled_x_test)\n",
    "print(y_pred)"
   ]
  },
  {
   "cell_type": "code",
   "execution_count": 135,
   "metadata": {},
   "outputs": [
    {
     "name": "stdout",
     "output_type": "stream",
     "text": [
      "Train Accuracy 0.9070474120739018\n"
     ]
    }
   ],
   "source": [
    "print(\"Train Accuracy\",linearR.score(scaled_x_train,y_train))"
   ]
  },
  {
   "cell_type": "code",
   "execution_count": 136,
   "metadata": {},
   "outputs": [
    {
     "name": "stdout",
     "output_type": "stream",
     "text": [
      "Test Accuracy 0.8050281919208\n"
     ]
    }
   ],
   "source": [
    "print(\"Test Accuracy\",linearR.score(scaled_x_test,y_test))"
   ]
  },
  {
   "cell_type": "code",
   "execution_count": 137,
   "metadata": {},
   "outputs": [
    {
     "name": "stdout",
     "output_type": "stream",
     "text": [
      "R2 Score 0.8050281919208\n"
     ]
    }
   ],
   "source": [
    "print(\"R2 Score\",r2_score(y_test,y_pred))"
   ]
  },
  {
   "cell_type": "code",
   "execution_count": 138,
   "metadata": {},
   "outputs": [
    {
     "name": "stdout",
     "output_type": "stream",
     "text": [
      "intercept : 13373.198170731712\n",
      "coeff : [ -127.13890919 -1667.71734886  -959.8438632    -83.82358571\n",
      "  -489.52338294  -958.926148     328.27392357  1167.70042597\n",
      "   348.21850773   435.27175096   722.77711751   674.27786511\n",
      "  2458.97812177   281.50425415   159.84415198  2288.23420923\n",
      "   157.33450058  -617.06481993  -752.86430544  -465.10378626\n",
      "  2452.24812168   321.7313271    553.9760371    431.89674344]\n"
     ]
    }
   ],
   "source": [
    "print(\"intercept :\",model.intercept_)\n",
    "print(\"coeff :\",model.coef_)"
   ]
  },
  {
   "cell_type": "markdown",
   "metadata": {},
   "source": [
    "# Using Gradient Descent"
   ]
  },
  {
   "cell_type": "code",
   "execution_count": 139,
   "metadata": {},
   "outputs": [],
   "source": [
    "feature_x = df[['horsepower', 'enginesize', 'citympg', 'highwaympg', 'curbweight', 'carlength', 'carwidth']]\n",
    "X = feature_x.copy()\n",
    "feature_x = feature_x/np.max(feature_x) #scaling\n",
    "feature_x = feature_x.values"
   ]
  },
  {
   "cell_type": "code",
   "execution_count": 140,
   "metadata": {},
   "outputs": [
    {
     "name": "stdout",
     "output_type": "stream",
     "text": [
      "[[0.38541667 0.39877301 0.42857143 ... 0.81114849 0.88658368 1.        ]\n",
      " [0.38541667 0.39877301 0.42857143 ... 0.81114849 0.88658368 1.        ]\n",
      " [0.53472222 0.46625767 0.3877551  ... 0.8226814  0.90594744 1.        ]\n",
      " ...\n",
      " [0.46527778 0.53067485 0.36734694 ... 0.90725613 0.95297372 1.        ]\n",
      " [0.36805556 0.44478528 0.53061224 ... 0.90725613 0.95297372 1.        ]\n",
      " [0.39583333 0.43251534 0.3877551  ... 0.90725613 0.95297372 1.        ]]\n"
     ]
    }
   ],
   "source": [
    "rows, cols = feature_x.shape\n",
    "intercept = np.ones((rows,1))\n",
    "feature_x = np.append(feature_x, intercept, axis=1) \n",
    "print(feature_x)"
   ]
  },
  {
   "cell_type": "code",
   "execution_count": 141,
   "metadata": {},
   "outputs": [
    {
     "name": "stdout",
     "output_type": "stream",
     "text": [
      "[[0.69157487]\n",
      " [0.79311686]\n",
      " [0.51164001]\n",
      " [0.233419  ]\n",
      " [0.52473145]\n",
      " [0.4532    ]\n",
      " [0.78748488]\n",
      " [0.39144257]]\n"
     ]
    }
   ],
   "source": [
    "m = np.random.randn(cols+1,1)\n",
    "print(m)"
   ]
  },
  {
   "cell_type": "code",
   "execution_count": 142,
   "metadata": {},
   "outputs": [
    {
     "name": "stdout",
     "output_type": "stream",
     "text": [
      "[[0.2972467 ]\n",
      " [0.36343612]\n",
      " [0.36343612]\n",
      " [0.30726872]\n",
      " [0.38436123]\n",
      " [0.33590308]\n",
      " [0.39008811]\n",
      " [0.41674009]\n",
      " [0.52588106]\n",
      " [0.39337372]\n",
      " [0.36189427]\n",
      " [0.37279736]\n",
      " [0.46189427]\n",
      " [0.46486784]\n",
      " [0.5410793 ]\n",
      " [0.67753304]\n",
      " [0.91002203]\n",
      " [0.8123348 ]\n",
      " [0.11345815]\n",
      " [0.13865639]\n",
      " [0.14482379]\n",
      " [0.12273128]\n",
      " [0.14046256]\n",
      " [0.17526432]\n",
      " [0.13720264]\n",
      " [0.14740088]\n",
      " [0.16759912]\n",
      " [0.1885022 ]\n",
      " [0.1964978 ]\n",
      " [0.28555066]\n",
      " [0.14270925]\n",
      " [0.15099119]\n",
      " [0.1189207 ]\n",
      " [0.14381057]\n",
      " [0.15702643]\n",
      " [0.16068282]\n",
      " [0.16068282]\n",
      " [0.17389868]\n",
      " [0.2003304 ]\n",
      " [0.19482379]\n",
      " [0.22676211]\n",
      " [0.28513216]\n",
      " [0.22786344]\n",
      " [0.14944934]\n",
      " [0.19639868]\n",
      " [0.19639868]\n",
      " [0.24334802]\n",
      " [0.71035242]\n",
      " [0.78303965]\n",
      " [0.79295154]\n",
      " [0.11442731]\n",
      " [0.1342511 ]\n",
      " [0.1496696 ]\n",
      " [0.14746696]\n",
      " [0.16288546]\n",
      " [0.2410793 ]\n",
      " [0.26090308]\n",
      " [0.30055066]\n",
      " [0.34460352]\n",
      " [0.19482379]\n",
      " [0.18711454]\n",
      " [0.23337004]\n",
      " [0.22566079]\n",
      " [0.23777533]\n",
      " [0.24768722]\n",
      " [0.40264317]\n",
      " [0.40405286]\n",
      " [0.56281938]\n",
      " [0.62220264]\n",
      " [0.62061674]\n",
      " [0.69603524]\n",
      " [0.75295154]\n",
      " [0.77215859]\n",
      " [0.90220264]\n",
      " [1.        ]\n",
      " [0.3635022 ]\n",
      " [0.11870044]\n",
      " [0.13632159]\n",
      " [0.14689427]\n",
      " [0.16936123]\n",
      " [0.21936123]\n",
      " [0.18720264]\n",
      " [0.27817181]\n",
      " [0.32751101]\n",
      " [0.31914097]\n",
      " [0.15394273]\n",
      " [0.18037445]\n",
      " [0.20438326]\n",
      " [0.20438326]\n",
      " [0.12112335]\n",
      " [0.15636564]\n",
      " [0.14645374]\n",
      " [0.15085903]\n",
      " [0.16187225]\n",
      " [0.16077093]\n",
      " [0.17178414]\n",
      " [0.16517621]\n",
      " [0.17618943]\n",
      " [0.18169604]\n",
      " [0.19711454]\n",
      " [0.2103304 ]\n",
      " [0.2973348 ]\n",
      " [0.31715859]\n",
      " [0.2973348 ]\n",
      " [0.3788326 ]\n",
      " [0.43389868]\n",
      " [0.40526432]\n",
      " [0.26211454]\n",
      " [0.2907489 ]\n",
      " [0.27400881]\n",
      " [0.30528634]\n",
      " [0.34317181]\n",
      " [0.3722467 ]\n",
      " [0.36773128]\n",
      " [0.37610132]\n",
      " [0.36629956]\n",
      " [0.39537445]\n",
      " [0.39977974]\n",
      " [0.12273128]\n",
      " [0.17526432]\n",
      " [0.13720264]\n",
      " [0.14740088]\n",
      " [0.16759912]\n",
      " [0.1964978 ]\n",
      " [0.28114537]\n",
      " [0.48497797]\n",
      " [0.71647577]\n",
      " [0.74951542]\n",
      " [0.81559471]\n",
      " [0.69164097]\n",
      " [0.20473568]\n",
      " [0.21795154]\n",
      " [0.26101322]\n",
      " [0.26806167]\n",
      " [0.33127753]\n",
      " [0.34162996]\n",
      " [0.39977974]\n",
      " [0.41013216]\n",
      " [0.11273128]\n",
      " [0.15535242]\n",
      " [0.16746696]\n",
      " [0.15696035]\n",
      " [0.17125551]\n",
      " [0.21938326]\n",
      " [0.20337004]\n",
      " [0.24799559]\n",
      " [0.16438326]\n",
      " [0.22462555]\n",
      " [0.1764978 ]\n",
      " [0.25757709]\n",
      " [0.11779736]\n",
      " [0.13960352]\n",
      " [0.14290749]\n",
      " [0.15237885]\n",
      " [0.17396476]\n",
      " [0.19334802]\n",
      " [0.15281938]\n",
      " [0.15854626]\n",
      " [0.17396476]\n",
      " [0.17154185]\n",
      " [0.17044053]\n",
      " [0.18409692]\n",
      " [0.2039207 ]\n",
      " [0.17748899]\n",
      " [0.18145374]\n",
      " [0.20480176]\n",
      " [0.21008811]\n",
      " [0.18610132]\n",
      " [0.21231278]\n",
      " [0.22002203]\n",
      " [0.24667401]\n",
      " [0.25438326]\n",
      " [0.38918502]\n",
      " [0.19709251]\n",
      " [0.23563877]\n",
      " [0.22      ]\n",
      " [0.24004405]\n",
      " [0.2477533 ]\n",
      " [0.36471366]\n",
      " [0.35237885]\n",
      " [0.34559471]\n",
      " [0.3469163 ]\n",
      " [0.17125551]\n",
      " [0.17566079]\n",
      " [0.17610132]\n",
      " [0.18050661]\n",
      " [0.18711454]\n",
      " [0.20914097]\n",
      " [0.22015419]\n",
      " [0.25539648]\n",
      " [0.21982379]\n",
      " [0.29284141]\n",
      " [0.30495595]\n",
      " [0.27070485]\n",
      " [0.28502203]\n",
      " [0.29548458]\n",
      " [0.35209251]\n",
      " [0.36376652]\n",
      " [0.40572687]\n",
      " [0.41740088]\n",
      " [0.37103524]\n",
      " [0.41949339]\n",
      " [0.47323789]\n",
      " [0.49493392]\n",
      " [0.49834802]]\n"
     ]
    }
   ],
   "source": [
    "feature_y = df[['price']]\n",
    "y = feature_y.copy()\n",
    "feature_y = feature_y/np.max(feature_y)\n",
    "feature_y = feature_y.values\n",
    "print(feature_y)"
   ]
  },
  {
   "cell_type": "code",
   "execution_count": 143,
   "metadata": {},
   "outputs": [],
   "source": [
    "n = len(y)\n",
    "def gradientDescent(X, y, theta, alpha = 0.5, iterations = 0, stepsize = 1, CF = 0):#function for gradient descent\n",
    "    while abs(stepsize) > 0.000001:\n",
    "        h = np.dot(X, theta) \n",
    "        theta = theta - alpha*(1/n)*(X.T.dot(h-y))\n",
    "        pCF = CF \n",
    "        CF =  np.sum((h-y)**2)\n",
    "        stepsize = pCF - CF\n",
    "        iterations = iterations+1\n",
    "    return theta, CF"
   ]
  },
  {
   "cell_type": "code",
   "execution_count": 144,
   "metadata": {},
   "outputs": [],
   "source": [
    "theta, CF = gradientDescent(feature_x, feature_y, m)"
   ]
  },
  {
   "cell_type": "code",
   "execution_count": 145,
   "metadata": {
    "scrolled": true
   },
   "outputs": [
    {
     "name": "stdout",
     "output_type": "stream",
     "text": [
      "[[ 0.30794672]\n",
      " [ 0.60030455]\n",
      " [-0.05843754]\n",
      " [ 0.08600026]\n",
      " [ 0.33330351]\n",
      " [-0.08174278]\n",
      " [ 0.55535895]\n",
      " [-0.71881708]]\n",
      "1.1418561121155082\n"
     ]
    }
   ],
   "source": [
    "print(slope)\n",
    "print(CF)"
   ]
  },
  {
   "cell_type": "code",
   "execution_count": 146,
   "metadata": {},
   "outputs": [],
   "source": [
    "preds = np.dot(feature_x,slope)"
   ]
  },
  {
   "cell_type": "code",
   "execution_count": 147,
   "metadata": {},
   "outputs": [
    {
     "name": "stdout",
     "output_type": "stream",
     "text": [
      "[[0.2921461 ]\n",
      " [0.2921461 ]\n",
      " [0.41178198]\n",
      " [0.24082333]\n",
      " [0.34031428]\n",
      " [0.31152454]\n",
      " [0.37227504]\n",
      " [0.38129211]\n",
      " [0.40940546]\n",
      " [0.41127441]\n",
      " [0.23143471]\n",
      " [0.23143471]\n",
      " [0.3825539 ]\n",
      " [0.38706243]\n",
      " [0.41858804]\n",
      " [0.58101494]\n",
      " [0.59910678]\n",
      " [0.62914782]\n",
      " [0.00292429]\n",
      " [0.12583329]\n",
      " [0.12756322]\n",
      " [0.12285246]\n",
      " [0.12523029]\n",
      " [0.19258122]\n",
      " [0.13268986]\n",
      " [0.13449327]\n",
      " [0.13449327]\n",
      " [0.19774554]\n",
      " [0.25451845]\n",
      " [0.41071491]\n",
      " [0.11463036]\n",
      " [0.13855149]\n",
      " [0.09564949]\n",
      " [0.14193946]\n",
      " [0.14325103]\n",
      " [0.142414  ]\n",
      " [0.14526817]\n",
      " [0.2143705 ]\n",
      " [0.21871508]\n",
      " [0.21684152]\n",
      " [0.20167616]\n",
      " [0.24169294]\n",
      " [0.23872918]\n",
      " [0.18577113]\n",
      " [0.12583329]\n",
      " [0.12870236]\n",
      " [0.27124719]\n",
      " [0.74634952]\n",
      " [0.74634952]\n",
      " [0.96399831]\n",
      " [0.12062923]\n",
      " [0.13140455]\n",
      " [0.13181441]\n",
      " [0.13206874]\n",
      " [0.13247861]\n",
      " [0.16780805]\n",
      " [0.16780805]\n",
      " [0.16821792]\n",
      " [0.23360652]\n",
      " [0.25208292]\n",
      " [0.25413226]\n",
      " [0.25208292]\n",
      " [0.25413226]\n",
      " [0.23945213]\n",
      " [0.25536185]\n",
      " [0.34549687]\n",
      " [0.290383  ]\n",
      " [0.51640628]\n",
      " [0.53567001]\n",
      " [0.51610236]\n",
      " [0.5434675 ]\n",
      " [0.66514471]\n",
      " [0.66017816]\n",
      " [0.84257399]\n",
      " [0.82584359]\n",
      " [0.4324609 ]\n",
      " [0.13458698]\n",
      " [0.13909611]\n",
      " [0.14401451]\n",
      " [0.19397477]\n",
      " [0.25680116]\n",
      " [0.2463161 ]\n",
      " [0.41251833]\n",
      " [0.41973198]\n",
      " [0.42014184]\n",
      " [0.2495848 ]\n",
      " [0.25286373]\n",
      " [0.25974196]\n",
      " [0.25974196]\n",
      " [0.13552013]\n",
      " [0.14609896]\n",
      " [0.13789736]\n",
      " [0.13953683]\n",
      " [0.14466179]\n",
      " [0.14060248]\n",
      " [0.14679658]\n",
      " [0.14224195]\n",
      " [0.14572744]\n",
      " [0.14641409]\n",
      " [0.2510353 ]\n",
      " [0.24923189]\n",
      " [0.4849132 ]\n",
      " [0.50025071]\n",
      " [0.48329759]\n",
      " [0.5089672 ]\n",
      " [0.55651178]\n",
      " [0.51147751]\n",
      " [0.32105947]\n",
      " [0.39595578]\n",
      " [0.33348164]\n",
      " [0.40110037]\n",
      " [0.32342948]\n",
      " [0.40046431]\n",
      " [0.33585166]\n",
      " [0.4056089 ]\n",
      " [0.325568  ]\n",
      " [0.40046431]\n",
      " [0.40439763]\n",
      " [0.12629534]\n",
      " [0.19258122]\n",
      " [0.13268986]\n",
      " [0.13056522]\n",
      " [0.16185523]\n",
      " [0.25451845]\n",
      " [0.41128873]\n",
      " [0.41849363]\n",
      " [0.53815577]\n",
      " [0.53815577]\n",
      " [0.5417626 ]\n",
      " [0.74952264]\n",
      " [0.29334738]\n",
      " [0.28620688]\n",
      " [0.2965569 ]\n",
      " [0.29958991]\n",
      " [0.30057359]\n",
      " [0.30475423]\n",
      " [0.36151588]\n",
      " [0.36471284]\n",
      " [0.14735228]\n",
      " [0.17676661]\n",
      " [0.18837535]\n",
      " [0.19912705]\n",
      " [0.20121587]\n",
      " [0.22713559]\n",
      " [0.2092303 ]\n",
      " [0.25685588]\n",
      " [0.2072314 ]\n",
      " [0.23557332]\n",
      " [0.21903387]\n",
      " [0.25934068]\n",
      " [0.12616867]\n",
      " [0.13385501]\n",
      " [0.13180568]\n",
      " [0.14761515]\n",
      " [0.14524231]\n",
      " [0.21246043]\n",
      " [0.15957828]\n",
      " [0.16187353]\n",
      " [0.17624556]\n",
      " [0.18899372]\n",
      " [0.16702909]\n",
      " [0.1605466 ]\n",
      " [0.16202212]\n",
      " [0.15919148]\n",
      " [0.16206055]\n",
      " [0.20758464]\n",
      " [0.21045371]\n",
      " [0.33611461]\n",
      " [0.33578671]\n",
      " [0.33701631]\n",
      " [0.3475089 ]\n",
      " [0.35037796]\n",
      " [0.371773  ]\n",
      " [0.25627213]\n",
      " [0.22369779]\n",
      " [0.26268579]\n",
      " [0.26268579]\n",
      " [0.26629262]\n",
      " [0.47448538]\n",
      " [0.47895691]\n",
      " [0.47093831]\n",
      " [0.45535613]\n",
      " [0.16555884]\n",
      " [0.21149374]\n",
      " [0.16580476]\n",
      " [0.21173966]\n",
      " [0.21690398]\n",
      " [0.18105105]\n",
      " [0.23299962]\n",
      " [0.21102874]\n",
      " [0.2042734 ]\n",
      " [0.32602549]\n",
      " [0.20817913]\n",
      " [0.24760335]\n",
      " [0.3606112 ]\n",
      " [0.37061194]\n",
      " [0.36130398]\n",
      " [0.37007513]\n",
      " [0.40018246]\n",
      " [0.40936347]\n",
      " [0.37694836]\n",
      " [0.4333102 ]\n",
      " [0.46017758]\n",
      " [0.39231251]\n",
      " [0.38595805]]\n"
     ]
    }
   ],
   "source": [
    "print(preds)"
   ]
  },
  {
   "cell_type": "code",
   "execution_count": 148,
   "metadata": {
    "scrolled": true
   },
   "outputs": [
    {
     "name": "stdout",
     "output_type": "stream",
     "text": [
      "Score : 0.8147141821807171\n"
     ]
    }
   ],
   "source": [
    "print(\"Score :\",np.sum((preds - np.mean(feature_y))**2)/np.sum((feature_y - np.mean(feature_y))**2))"
   ]
  },
  {
   "cell_type": "code",
   "execution_count": 149,
   "metadata": {},
   "outputs": [
    {
     "data": {
      "text/plain": [
       "13373.198170731712"
      ]
     },
     "execution_count": 149,
     "metadata": {},
     "output_type": "execute_result"
    }
   ],
   "source": [
    "linearR.intercept_"
   ]
  },
  {
   "cell_type": "code",
   "execution_count": 150,
   "metadata": {},
   "outputs": [
    {
     "data": {
      "text/plain": [
       "array([ -127.13890919, -1667.71734886,  -959.8438632 ,   -83.82358571,\n",
       "        -489.52338294,  -958.926148  ,   328.27392357,  1167.70042597,\n",
       "         348.21850773,   435.27175096,   722.77711751,   674.27786511,\n",
       "        2458.97812177,   281.50425415,   159.84415198,  2288.23420923,\n",
       "         157.33450058,  -617.06481993,  -752.86430544,  -465.10378626,\n",
       "        2452.24812168,   321.7313271 ,   553.9760371 ,   431.89674344])"
      ]
     },
     "execution_count": 150,
     "metadata": {},
     "output_type": "execute_result"
    }
   ],
   "source": [
    "linearR.coef_"
   ]
  },
  {
   "cell_type": "code",
   "execution_count": null,
   "metadata": {},
   "outputs": [],
   "source": []
  }
 ],
 "metadata": {
  "kernelspec": {
   "display_name": "Python 3",
   "language": "python",
   "name": "python3"
  },
  "language_info": {
   "codemirror_mode": {
    "name": "ipython",
    "version": 3
   },
   "file_extension": ".py",
   "mimetype": "text/x-python",
   "name": "python",
   "nbconvert_exporter": "python",
   "pygments_lexer": "ipython3",
   "version": "3.7.4"
  }
 },
 "nbformat": 4,
 "nbformat_minor": 2
}
