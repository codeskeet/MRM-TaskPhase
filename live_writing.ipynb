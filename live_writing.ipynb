{
 "cells": [
  {
   "cell_type": "code",
   "execution_count": 1,
   "metadata": {},
   "outputs": [],
   "source": [
    "import cv2\n",
    "import numpy as np\n",
    "\n",
    "from tensorflow import keras\n",
    "from tensorflow.keras.models import load_model"
   ]
  },
  {
   "cell_type": "code",
   "execution_count": null,
   "metadata": {},
   "outputs": [
    {
     "name": "stdout",
     "output_type": "stream",
     "text": [
      "0\n",
      "0\n",
      "0\n",
      "0\n",
      "0\n",
      "0\n",
      "0\n"
     ]
    }
   ],
   "source": [
    "load_from_sys = True\n",
    "\n",
    "if load_from_sys:\n",
    "\thsv_value = np.load('hsv_value.npy')\n",
    "\n",
    "cap = cv2.VideoCapture(0)\n",
    "cap.set(3,1280)\n",
    "cap.set(4,720)\n",
    "\n",
    "kernel = np.ones((5,5), np.uint8)\n",
    "\n",
    "canvas = None\n",
    "X_test = None\n",
    "\n",
    "x1=0\n",
    "y1=0\n",
    "\n",
    "noise_thresh = 800\n",
    "mnist_model = load_model('mnist_model.h5')\n",
    "\n",
    "x1 = 0\n",
    "y1 = 0\n",
    "\n",
    "\n",
    "\n",
    "\n",
    "while True:\n",
    "\t_, frame = cap.read()\n",
    "\tframe = cv2.flip(frame, 1)\n",
    "\n",
    "\tif canvas is None:\n",
    "\t\tcanvas = np.zeros_like(frame)\n",
    "\n",
    "\thsv = cv2.cvtColor(frame, cv2.COLOR_BGR2HSV)\n",
    "\n",
    "\tif load_from_sys:\n",
    "\t\tlower_range = hsv_value[0]\n",
    "\t\tupper_range = hsv_value[1]\n",
    "\n",
    "\tmask = cv2.inRange(hsv,lower_range, upper_range)\n",
    "\n",
    "\tmask = cv2.erode(mask, kernel, iterations = 1)\n",
    "\tmask = cv2.dilate(mask, kernel, iterations = 2)\n",
    "\n",
    "\tcontours, heirarchy = cv2.findContours(mask, cv2.RETR_EXTERNAL, cv2.CHAIN_APPROX_SIMPLE)\n",
    "\n",
    "\tif contours  and cv2.contourArea(max(contours, key = cv2.contourArea)) > noise_thresh:\n",
    "\t\tc = max(contours, key = cv2.contourArea)\n",
    "\t\tx2, y2 ,w, h = cv2.boundingRect(c)\n",
    "\n",
    "\t\tif x1 == 0 and y1 == 0:\n",
    "\t\t\tx1,y1 = x2,y2\n",
    "\t\telse:\n",
    "\t\t\tcanvas = cv2.line(canvas, (x1,y1), (x2,y2), [0,255,255], 4)\n",
    "\n",
    "\t\tx1,y1 = x2,y2\n",
    "\t\n",
    "\telse:\n",
    "\t\tx1,y1 = 0, 0\n",
    "\n",
    "\tframe = cv2.add(frame, canvas)\n",
    "\n",
    "\tstacked = np.hstack((canvas, frame))\n",
    "\tcv2.imshow('Screen_Pen', cv2.resize(stacked, None, fx = 0.6, fy = 0.6))\n",
    "\n",
    "\tif cv2.waitKey(1) == 13:\n",
    "\t\tbreak\n",
    "        \n",
    "\t#Clear the canvas when 'c' is pressed\n",
    "\tif cv2.waitKey(1) & 0xFF == ord('c'):\n",
    "\t\tcanvas = None\n",
    "        \n",
    "\tif cv2.waitKey(1) & 0xff == ord('p'):\n",
    "\t\tX_test = cv2.cvtColor(canvas, cv2.COLOR_BGR2GRAY)\n",
    "\t\tX_test_img = cv2.resize(X_test,(28,28))\n",
    "\t\tX_test_img = np.array(X_test_img)\n",
    "\t\tpred = mnist_model.predict(X_test_img.reshape(1,28,28,1))[0]\n",
    "\t\tpred = np.argmax(pred)\n",
    "\t\tprint(pred)\n",
    "\n",
    "cv2.destroyAllWindows()\n",
    "cap.release()"
   ]
  },
  {
   "cell_type": "code",
   "execution_count": null,
   "metadata": {},
   "outputs": [],
   "source": []
  }
 ],
 "metadata": {
  "kernelspec": {
   "display_name": "Python 3",
   "language": "python",
   "name": "python3"
  },
  "language_info": {
   "codemirror_mode": {
    "name": "ipython",
    "version": 3
   },
   "file_extension": ".py",
   "mimetype": "text/x-python",
   "name": "python",
   "nbconvert_exporter": "python",
   "pygments_lexer": "ipython3",
   "version": "3.7.4"
  }
 },
 "nbformat": 4,
 "nbformat_minor": 2
}
